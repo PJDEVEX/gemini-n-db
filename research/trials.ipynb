{
 "cells": [
  {
   "cell_type": "code",
   "execution_count": 1,
   "metadata": {},
   "outputs": [
    {
     "name": "stdout",
     "output_type": "stream",
     "text": [
      "ok\n"
     ]
    }
   ],
   "source": [
    "print(\"ok\")"
   ]
  },
  {
   "cell_type": "markdown",
   "metadata": {},
   "source": [
    "`coverage run -m unittest tests.test_gcp_confi`\n",
    "```bash\n",
    "\n",
    "Credentials loaded successfully!\n",
    "Vertex AI client initialized successfully!\n",
    "Error: Failed to generate content\n",
    ".Error: Failed to load the model\n",
    "..get service account credentials error: [Errno 2] No such file or directory: 'non_existing_key_file.json'\n",
    ".Credentials loaded successfully!\n",
    "..Vertex AI client initialized successfully!\n",
    ".\n",
    "----------------------------------------------------------------------\n",
    "Ran 7 tests in 0.014s\n",
    "\n",
    "```"
   ]
  },
  {
   "cell_type": "markdown",
   "metadata": {},
   "source": [
    "### Generate Coverage report"
   ]
  },
  {
   "cell_type": "markdown",
   "metadata": {},
   "source": [
    "`coverage report -m`\n",
    "```bash\n",
    "\n",
    "(k-ai) pjlinux@DESKTOP-OTE9RM3:~/projects/gemini-n-db$ coverage report -m\n",
    "Name                      Stmts   Miss  Cover   Missing\n",
    "-------------------------------------------------------\n",
    "src/__init__.py               0      0   100%\n",
    "src/gcp/__init__.py           0      0   100%\n",
    "src/gcp/gcp_confi.py         42      0   100%\n",
    "tests/__init__.py             0      0   100%\n",
    "tests/test_gcp_confi.py      60      1    98%   130\n",
    "-------------------------------------------------------\n",
    "TOTAL                       102      1    99%\n",
    "(k-ai) pjlinux@DESKTOP-OTE9RM3:~/projects/gemini-n-db$\n",
    "```\n"
   ]
  },
  {
   "cell_type": "markdown",
   "metadata": {},
   "source": []
  }
 ],
 "metadata": {
  "kernelspec": {
   "display_name": "Python 3",
   "language": "python",
   "name": "python3"
  },
  "language_info": {
   "codemirror_mode": {
    "name": "ipython",
    "version": 3
   },
   "file_extension": ".py",
   "mimetype": "text/x-python",
   "name": "python",
   "nbconvert_exporter": "python",
   "pygments_lexer": "ipython3",
   "version": "3.10.12"
  }
 },
 "nbformat": 4,
 "nbformat_minor": 2
}
